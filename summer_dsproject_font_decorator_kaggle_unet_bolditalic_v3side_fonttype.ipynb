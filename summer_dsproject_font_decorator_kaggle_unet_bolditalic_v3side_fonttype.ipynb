{
  "nbformat": 4,
  "nbformat_minor": 0,
  "metadata": {
    "colab": {
      "name": "summer_dsproject_font_decorator_kaggle_unet_bolditalic_v3side_fonttype.ipynb",
      "provenance": [],
      "collapsed_sections": [],
      "authorship_tag": "ABX9TyNRy8PDYPdMD12Wo3LF9dqH",
      "include_colab_link": true
    },
    "kernelspec": {
      "name": "python3",
      "display_name": "Python 3"
    },
    "language_info": {
      "name": "python"
    }
  },
  "cells": [
    {
      "cell_type": "markdown",
      "metadata": {
        "id": "view-in-github",
        "colab_type": "text"
      },
      "source": [
        "<a href=\"https://colab.research.google.com/github/benduong2001/Font_decorator_bolditalic_unet/blob/main/summer_dsproject_font_decorator_kaggle_unet_bolditalic_v3side_fonttype.ipynb\" target=\"_parent\"><img src=\"https://colab.research.google.com/assets/colab-badge.svg\" alt=\"Open In Colab\"/></a>"
      ]
    },
    {
      "cell_type": "code",
      "execution_count": 1,
      "metadata": {
        "id": "a3oW1iPeOarl"
      },
      "outputs": [],
      "source": [
        "import numpy as np\n",
        "import matplotlib.pyplot as plt\n",
        "import sklearn.decomposition\n",
        "import pandas as pd\n",
        "import os\n",
        "from PIL import Image\n",
        "from sklearn.preprocessing import normalize\n",
        "\n",
        "plt.rcParams['figure.figsize'] = (7,7)"
      ]
    },
    {
      "cell_type": "code",
      "source": [
        "import sklearn.neighbors\n",
        "import sklearn.manifold\n",
        "from sklearn.cluster import KMeans\n",
        "\n",
        "from tqdm import tqdm"
      ],
      "metadata": {
        "id": "hZSvrgYfeLIm"
      },
      "execution_count": 2,
      "outputs": []
    },
    {
      "cell_type": "code",
      "source": [
        "# Load the Drive helper and mount\n",
        "from google.colab import drive\n",
        "drive.mount('/content/drive', force_remount=True)"
      ],
      "metadata": {
        "colab": {
          "base_uri": "https://localhost:8080/"
        },
        "id": "1V-HTcgnPQqf",
        "outputId": "6de9c12d-cad2-4c9c-cf01-70534f796b39"
      },
      "execution_count": 3,
      "outputs": [
        {
          "output_type": "stream",
          "name": "stdout",
          "text": [
            "Mounted at /content/drive\n"
          ]
        }
      ]
    },
    {
      "cell_type": "code",
      "source": [
        "PATH_FOLDER = \"/content/drive/MyDrive/dsprojects/dsproject_imagery/dsprojects_fonts/\"\n",
        "font_folder_path = PATH_FOLDER + \"/fonts/\"\n",
        "uci_font_family_csv_file_names = os.listdir(font_folder_path) # list of file_names. Each file is the csv for a specific font"
      ],
      "metadata": {
        "id": "IStKQKD3lY9X"
      },
      "execution_count": 4,
      "outputs": []
    },
    {
      "cell_type": "code",
      "source": [
        "# for each font's csv table, the column \"m_label\" denotes an identifier for a certain character\n",
        "# the variables below are the m_labels for specific character groups (alphanumeric - uppercase, lowercase, digits)\n",
        "MIN_M_LABEL = 33\n",
        "MAX_M_LABEL = 126\n",
        "m_labels_all = list(range(MIN_M_LABEL,MAX_M_LABEL+1))\n",
        "m_labels_alphanum_alpha_upper = list(range(m_labels_all[32], m_labels_all[32+26]))\n",
        "m_labels_alphanum_alpha_lower = list(range(m_labels_all[64], m_labels_all[64+26]))\n",
        "m_labels_alphanum_num = list(range(m_labels_all[16], m_labels_all[16+10]))\n",
        "\n",
        "# each row of the csv table has a 20x20 image for the character it represents, which can be made using a group of 400 columns. These column names are collected here for future use\n",
        "pixel_column_names = []\n",
        "for i in range(0, 20):\n",
        "    for j in range(0, 20):\n",
        "        pixel_column_name = \"r{0}c{1}\".format(str(i),str(j))\n",
        "        pixel_column_names.append(pixel_column_name)\n",
        "\n",
        "# for this unsupervised classification, I'm going to just use the 26 capital letters to represent each font\n",
        "# My main reason is that capital letters are arguably square-shaped and thus proportionally consistent in anatomy for most fonts.\n",
        "# Because in this dataset, thin or wide characters get forcibly stretched or narrowed to fit a 20x20 space. \n",
        "# But you can change which characters you want to use below. \n",
        "CHOSEN_M_LABELS = []\n",
        "CHOSEN_M_LABELS += m_labels_alphanum_alpha_upper\n",
        "#CHOSEN_M_LABELS += m_labels_alphanum_alpha_lower\n",
        "#CHOSEN_M_LABELS += m_labels_alphanum_num\n",
        "\n",
        "\n",
        "CHARACTERS_AMOUNT = len(CHOSEN_M_LABELS)\n",
        "# I'm going to iterate through each font file\n",
        "# \n"
      ],
      "metadata": {
        "id": "DxQ7nE8X7PZR"
      },
      "execution_count": 5,
      "outputs": []
    },
    {
      "cell_type": "code",
      "source": [
        "def temp_create_channels(channel_type):\n",
        "    # channel_type is 1 for italic, 2 for bold, 3 for both\n",
        "    DIM1 = 20\n",
        "    DIM2 = 10\n",
        "    if channel_type == 0:\n",
        "        return np.zeros((DIM1,DIM2))\n",
        "    elif channel_type == 3:\n",
        "        return temp_create_channels(1) + temp_create_channels(2)\n",
        "    else:\n",
        "        channel = np.zeros((DIM1,DIM2))\n",
        "        ohe_divisions = 2\n",
        "        span = DIM1//ohe_divisions\n",
        "\n",
        "        span_idx = channel_type-1\n",
        "        start = (span_idx*span)\n",
        "        stop = (start+span)\n",
        "        channel[(start):(stop),:] = 1\n",
        "        return channel"
      ],
      "metadata": {
        "id": "W-JznKXEG78t"
      },
      "execution_count": 6,
      "outputs": []
    },
    {
      "cell_type": "code",
      "source": [
        "serifed_fonts = ['BODONI', 'BOOK', 'BOOKMAN', 'BAITI', 'BELL', 'BASKERVILLE',\n",
        "       'CAMBRIA', 'CALISTO', 'CENTURY', 'CALIFORNIAN', 'CENTAUR',\n",
        "       'CASTELLAR', 'CONSTANTIA', 'COMPLEX', 'COURIER', 'EUROROMAN',\n",
        "       'ENGLISH', 'ENGRAVERS', 'FOOTLIGHT', 'FELIX TITLING', 'DUTCH801',\n",
        "       'CURLZ', 'GABRIOLA', 'GOTHICE', 'GEORGIA', 'GARAMOND', 'GOUDY',\n",
        "       'HIGH TOWER', 'HARRINGTON', 'IMPRINT', 'HIMALAYA', 'LUCIDA',\n",
        "       'KRISTEN', 'JUICE', 'JAVANESE', 'NIAGARA', 'MODERN', 'MINGLIU',\n",
        "       'PALATINO', 'PANROMAN', 'RICHARD', 'PERPETUA', 'PMINGLIU-EXTB',\n",
        "       'ROMANTIC', 'SITKA', 'SYLFAEN', 'SUPERFRENCH', 'TIMES']"
      ],
      "metadata": {
        "id": "reTXuTrkCp3I"
      },
      "execution_count": 7,
      "outputs": []
    },
    {
      "cell_type": "code",
      "source": [
        "sanserifed_fonts = ['ARIAL', 'AGENCY', 'BAUHAUS', 'BERNARD', 'BRITANNIC', 'BERLIN',\n",
        "       'BITSTREAMVERA', 'BANKGOTHIC', 'BUXTON', 'CAARD', 'BROADWAY',\n",
        "       'CALIBRI', 'CANDARA', 'CONSOLAS', 'COMIC', 'CORBEL', 'COPPERPLATE',\n",
        "       'COOPER', 'EBRIMA', 'ERAS', 'ELEPHANT', 'GADUGI', 'FORTE',\n",
        "       'FRANKLIN', 'HAETTENSCHWEILER', 'GILL', 'GUNPLAY', 'GLOUCESTER',\n",
        "       'IMPACT', 'LEELAWADEE', 'MAIANDRA', 'JOKERMAN', 'MISTRAL',\n",
        "       'MONOSPAC821', 'MYANMAR', 'NINA', 'NIRMALA', 'OCRA', 'ONYX',\n",
        "       'OCRB', 'PHAGSPA', 'RAVIE', 'ROCKWELL', 'PLAYBILL', 'REFERENCE',\n",
        "       'QUICKTYPE', 'SANSSERIF', 'SERIF', 'SEGOE', 'SHOWCARD', 'SNAP',\n",
        "       'STENCIL', 'SWIS721', 'TECHNIC', 'TREBUCHET', 'TEMPUS', 'TAHOMA',\n",
        "       'TAI', 'TW', 'VINETA', 'VERDANA', 'YI BAITI', 'WIDE']"
      ],
      "metadata": {
        "id": "8f-DVlOOCx1L"
      },
      "execution_count": 8,
      "outputs": []
    },
    {
      "cell_type": "code",
      "source": [
        "allowed_font_families = []\n",
        "allowed_font_families += serifed_fonts\n",
        "allowed_font_families += sanserifed_fonts"
      ],
      "metadata": {
        "id": "Nw4_JcMjC_IJ"
      },
      "execution_count": 9,
      "outputs": []
    },
    {
      "cell_type": "code",
      "source": [
        "x_train = []\n",
        "x_test = []\n",
        "y_train = []\n",
        "y_test = []\n",
        "np.random.seed(1)\n",
        "range_len_uci_font_family_csv_file_names = range(len(allowed_font_families))\n",
        "range_len_uci_font_family_csv_file_names = tqdm(range_len_uci_font_family_csv_file_names)\n",
        "\n",
        "for i in range_len_uci_font_family_csv_file_names:\n",
        "    uci_font_family = allowed_font_families[i]\n",
        "    uci_font_family_csv_file_name = uci_font_family+\".csv\"\n",
        "    if uci_font_family in ['BITSTREAMVERA','CREDITCARD', 'E13B', 'HANDPRINT', 'MONEY', 'NUMERICS', 'VIN']:\n",
        "        continue\n",
        "    \n",
        "    temp_uci_font_family_df_orig = pd.read_csv(font_folder_path + uci_font_family_csv_file_name)\n",
        "    # choose characters\n",
        "    temp_uci_font_family_df_orig = temp_uci_font_family_df_orig[temp_uci_font_family_df_orig[\"m_label\"].isin(CHOSEN_M_LABELS)]\n",
        "    # sort for easiness (each of the m_label, whichever you chose, are now separated)\n",
        "    temp_uci_font_family_df_orig = temp_uci_font_family_df_orig.sort_values([\"m_label\",\"strength\",\t\"italic\"])\n",
        "    temp_uci_font_family_df_orig = temp_uci_font_family_df_orig.drop_duplicates(subset=[\"m_label\",\"strength\",\t\"italic\"])\n",
        "    \n",
        "    # forloop for each character,\n",
        "    # for each character, read and reshape the pixel columns, and design the concatenated channel(s) for italic, bold, and both\n",
        "    # then fill the x_train, y_train, x_test, y_test lists, by choosing on the spot if it likes to be in either\n",
        "    available_m_labels = temp_uci_font_family_df_orig[\"m_label\"]\n",
        "\n",
        "    temp_uci_font_family_df_orig[pixel_column_names] = temp_uci_font_family_df_orig[pixel_column_names].astype(float)\n",
        "    temp_uci_font_family_df_orig[pixel_column_names] /= 255\n",
        "\n",
        "    assert temp_uci_font_family_df_orig.shape[0] == 26*4\n",
        "\n",
        "    for m_label_idx in range(len(available_m_labels)):\n",
        "        # iterate through the m_labels of the font, which will include regular form, and bold/italic forms\n",
        "        temp_m_label = available_m_labels.values[m_label_idx]\n",
        "        temp_m_label_df = temp_uci_font_family_df_orig[temp_uci_font_family_df_orig[\"m_label\"] == temp_m_label]\n",
        "        # this should be up to 4 rows\n",
        "        assert temp_m_label_df.shape[0] == 4\n",
        "\n",
        "        temp_m_label_df_pixels = temp_m_label_df[pixel_column_names].values.reshape((4,20,20))\n",
        "\n",
        "        regular_form_arr = temp_m_label_df_pixels[0]\n",
        "        italic_form_arr = temp_m_label_df_pixels[1]\n",
        "        bold_form_arr = temp_m_label_df_pixels[2]\n",
        "        bold_italic_form_arr = temp_m_label_df_pixels[3]\n",
        "\n",
        "        # now dealing with the concatenation process. this is difficult\n",
        "        temp_target_form_arr_list = [regular_form_arr,italic_form_arr,bold_form_arr,bold_italic_form_arr]\n",
        "        for channel_type_idx in range(len(temp_target_form_arr_list)):\n",
        "            temp_target_form_arr = temp_target_form_arr_list[channel_type_idx]\n",
        "            # channel_type is 1 for italic, 2 for bold, 3 for both,0 for reg\n",
        "            channel_type = channel_type_idx #+ 1 # don't change\n",
        "\n",
        "            temp_channel = temp_create_channels(channel_type)\n",
        "\n",
        "            # reshape so that it is now (20, 20, 1 + # of channels)\n",
        "            temp_regular_form_concat = np.hstack([regular_form_arr,temp_channel])\n",
        "            temp_regular_form = np.expand_dims(temp_regular_form_concat,2)\n",
        "\n",
        "            temp_target_form_concat = np.hstack([temp_target_form_arr,temp_channel])\n",
        "            # change target image from 2d array to 1-channel 3d array\n",
        "            temp_target_form = np.expand_dims(temp_target_form_concat,2)\n",
        "\n",
        "            # decide if train or test:\n",
        "            train_test_decider = np.random.choice([1,0],size=1, p=[0.75, 0.25])[0]\n",
        "            if train_test_decider:\n",
        "                x_train.append(temp_regular_form)\n",
        "                y_train.append(temp_target_form)\n",
        "            else:\n",
        "                x_test.append(temp_regular_form)\n",
        "                y_test.append(temp_target_form)"
      ],
      "metadata": {
        "id": "Dlcp_Xz3FsiZ",
        "colab": {
          "base_uri": "https://localhost:8080/"
        },
        "outputId": "e12331b9-a6fc-4456-c2f3-23dc6e190489"
      },
      "execution_count": 10,
      "outputs": [
        {
          "output_type": "stream",
          "name": "stderr",
          "text": [
            " 64%|██████▍   | 71/111 [00:56<00:27,  1.45it/s]/usr/local/lib/python3.7/dist-packages/pandas/core/frame.py:3641: SettingWithCopyWarning: \n",
            "A value is trying to be set on a copy of a slice from a DataFrame.\n",
            "Try using .loc[row_indexer,col_indexer] = value instead\n",
            "\n",
            "See the caveats in the documentation: https://pandas.pydata.org/pandas-docs/stable/user_guide/indexing.html#returning-a-view-versus-a-copy\n",
            "  self[k1] = value[k2]\n",
            "100%|██████████| 111/111 [01:37<00:00,  1.13it/s]\n"
          ]
        }
      ]
    },
    {
      "cell_type": "code",
      "source": [
        "len(x_train), len(y_train),len(x_test), len(y_test),"
      ],
      "metadata": {
        "colab": {
          "base_uri": "https://localhost:8080/"
        },
        "id": "KftkD9dFNcEV",
        "outputId": "16a414cc-f916-48b1-a7d1-74d7bb6142f3"
      },
      "execution_count": 11,
      "outputs": [
        {
          "output_type": "execute_result",
          "data": {
            "text/plain": [
              "(34307, 34307, 11453, 11453)"
            ]
          },
          "metadata": {},
          "execution_count": 11
        }
      ]
    },
    {
      "cell_type": "code",
      "source": [
        "x_train[0].shape, y_train[0].shape, x_test[0].shape, y_test[0].shape"
      ],
      "metadata": {
        "colab": {
          "base_uri": "https://localhost:8080/"
        },
        "id": "n6hOGdnwNXOs",
        "outputId": "07864168-df02-4732-d772-9ce79b644d6b"
      },
      "execution_count": 12,
      "outputs": [
        {
          "output_type": "execute_result",
          "data": {
            "text/plain": [
              "((20, 40, 1), (20, 40, 1), (20, 40, 1), (20, 40, 1))"
            ]
          },
          "metadata": {},
          "execution_count": 12
        }
      ]
    },
    {
      "cell_type": "code",
      "source": [
        "imx = 28\n",
        "plt.imshow(np.squeeze((x_train[imx]*255).astype(int)))"
      ],
      "metadata": {
        "colab": {
          "base_uri": "https://localhost:8080/",
          "height": 232
        },
        "id": "uyyvfuXwPcB7",
        "outputId": "ca42defb-286f-45fa-c2e6-29d4f416a122"
      },
      "execution_count": 15,
      "outputs": [
        {
          "output_type": "execute_result",
          "data": {
            "text/plain": [
              "<matplotlib.image.AxesImage at 0x7fd8b97c34d0>"
            ]
          },
          "metadata": {},
          "execution_count": 15
        },
        {
          "output_type": "display_data",
          "data": {
            "text/plain": [
              "<Figure size 432x288 with 1 Axes>"
            ],
            "image/png": "[encoded data removed]"
          },
          "metadata": {
            "needs_background": "light"
          }
        }
      ]
    },
    {
      "cell_type": "code",
      "source": [
        "plt.imshow(np.squeeze((y_train[imx]*255).astype(int)))"
      ],
      "metadata": {
        "colab": {
          "base_uri": "https://localhost:8080/",
          "height": 232
        },
        "id": "0G9zDJSDP5fm",
        "outputId": "3e1d5e2f-8e35-44f7-fb24-b2f2384037a5"
      },
      "execution_count": 16,
      "outputs": [
        {
          "output_type": "execute_result",
          "data": {
            "text/plain": [
              "<matplotlib.image.AxesImage at 0x7fd8b80034d0>"
            ]
          },
          "metadata": {},
          "execution_count": 16
        },
        {
          "output_type": "display_data",
          "data": {
            "text/plain": [
              "<Figure size 432x288 with 1 Axes>"
            ],
            "image/png": "[encoded data removed]"
          },
          "metadata": {
            "needs_background": "light"
          }
        }
      ]
    },
    {
      "cell_type": "code",
      "source": [
        "import pickle        "
      ],
      "metadata": {
        "id": "zsR5yYay7DC8"
      },
      "execution_count": 17,
      "outputs": []
    },
    {
      "cell_type": "code",
      "source": [
        "f = open(PATH_FOLDER+'unet_font_x_train_v3_serifsan.pkl', 'wb') \n",
        "pickle.dump(x_train, f)\n",
        "f.close()     \n",
        "f = open(PATH_FOLDER+'unet_font_y_train_v3_serifsan.pkl', 'wb') \n",
        "pickle.dump(y_train, f)\n",
        "f.close()     "
      ],
      "metadata": {
        "id": "wJbXDwnJinzz"
      },
      "execution_count": 18,
      "outputs": []
    },
    {
      "cell_type": "code",
      "source": [
        "f = open(PATH_FOLDER+'unet_font_x_test_v3_serifsan.pkl', 'wb') \n",
        "pickle.dump(x_test, f)\n",
        "f.close()     \n",
        "f = open(PATH_FOLDER+'unet_font_y_test_v3_serifsan.pkl', 'wb') \n",
        "pickle.dump(y_test, f)\n",
        "f.close()     "
      ],
      "metadata": {
        "id": "MvLV0OqwV-fm"
      },
      "execution_count": 19,
      "outputs": []
    },
    {
      "cell_type": "code",
      "source": [
        ""
      ],
      "metadata": {
        "id": "kRKE22JRWHo_"
      },
      "execution_count": null,
      "outputs": []
    }
  ]
}